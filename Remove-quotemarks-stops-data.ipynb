{
 "cells": [
  {
   "cell_type": "code",
   "execution_count": 5,
   "metadata": {},
   "outputs": [],
   "source": [
    "import csv\n",
    "import string\n",
    "\n",
    "input_file = open('stops.txt', 'r')\n",
    "output_file = open('stops-temp.txt', 'w')\n",
    "data = csv.reader(input_file)\n",
    "writer = csv.writer(output_file)\n",
    "specials = '\"'\n",
    "\n",
    "\n",
    "\n",
    "for line in data:\n",
    "    line = [value.replace(specials, '') for value in line]\n",
    "    writer.writerow(line)\n",
    "    \n",
    "input_file.close()\n",
    "output_file.close() "
   ]
  },
  {
   "cell_type": "code",
   "execution_count": 4,
   "metadata": {},
   "outputs": [],
   "source": [
    "import csv\n",
    "import string\n",
    "\n",
    "input_file = open('stops-temp.txt', 'r')\n",
    "output_file = open('stops-final.txt', 'w')\n",
    "data = csv.reader(input_file)\n",
    "writer = csv.writer(output_file)\n",
    "specials = '\"'\n",
    "\n",
    "\n",
    "\n",
    "for line in data:\n",
    "    line = [value.replace(specials, '') for value in line]\n",
    "    writer.writerow(line)\n",
    "    \n",
    "input_file.close()\n",
    "output_file.close() "
   ]
  },
  {
   "cell_type": "code",
   "execution_count": null,
   "metadata": {},
   "outputs": [],
   "source": []
  }
 ],
 "metadata": {
  "kernelspec": {
   "display_name": "Python 3",
   "language": "python",
   "name": "python3"
  },
  "language_info": {
   "codemirror_mode": {
    "name": "ipython",
    "version": 3
   },
   "file_extension": ".py",
   "mimetype": "text/x-python",
   "name": "python",
   "nbconvert_exporter": "python",
   "pygments_lexer": "ipython3",
   "version": "3.8.5"
  }
 },
 "nbformat": 4,
 "nbformat_minor": 4
}
