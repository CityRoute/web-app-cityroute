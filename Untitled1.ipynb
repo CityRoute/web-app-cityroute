{
 "cells": [
  {
   "cell_type": "code",
   "execution_count": 8,
   "metadata": {},
   "outputs": [],
   "source": [
    "import pandas as pd\n"
   ]
  },
  {
   "cell_type": "code",
   "execution_count": 9,
   "metadata": {},
   "outputs": [],
   "source": [
    "df = pd.read_csv(\"stops.txt\")"
   ]
  },
  {
   "cell_type": "code",
   "execution_count": 10,
   "metadata": {},
   "outputs": [
    {
     "data": {
      "text/html": [
       "<div>\n",
       "<style scoped>\n",
       "    .dataframe tbody tr th:only-of-type {\n",
       "        vertical-align: middle;\n",
       "    }\n",
       "\n",
       "    .dataframe tbody tr th {\n",
       "        vertical-align: top;\n",
       "    }\n",
       "\n",
       "    .dataframe thead th {\n",
       "        text-align: right;\n",
       "    }\n",
       "</style>\n",
       "<table border=\"1\" class=\"dataframe\">\n",
       "  <thead>\n",
       "    <tr style=\"text-align: right;\">\n",
       "      <th></th>\n",
       "      <th>8220DB000002</th>\n",
       "      <th>Parnell Square West</th>\n",
       "      <th>2</th>\n",
       "      <th>53.35224436</th>\n",
       "      <th>-6.263723219</th>\n",
       "    </tr>\n",
       "  </thead>\n",
       "  <tbody>\n",
       "    <tr>\n",
       "      <th>0</th>\n",
       "      <td>8220DB000003</td>\n",
       "      <td>Parnell Square West</td>\n",
       "      <td>3.0</td>\n",
       "      <td>53.352309</td>\n",
       "      <td>-6.263811</td>\n",
       "    </tr>\n",
       "    <tr>\n",
       "      <th>1</th>\n",
       "      <td>8220DB000004</td>\n",
       "      <td>Parnell Square West</td>\n",
       "      <td>4.0</td>\n",
       "      <td>53.352575</td>\n",
       "      <td>-6.264175</td>\n",
       "    </tr>\n",
       "    <tr>\n",
       "      <th>2</th>\n",
       "      <td>8220DB000006</td>\n",
       "      <td>Parnell Square West</td>\n",
       "      <td>6.0</td>\n",
       "      <td>53.352749</td>\n",
       "      <td>-6.264454</td>\n",
       "    </tr>\n",
       "    <tr>\n",
       "      <th>3</th>\n",
       "      <td>8220DB000007</td>\n",
       "      <td>Parnell Square West</td>\n",
       "      <td>7.0</td>\n",
       "      <td>53.352841</td>\n",
       "      <td>-6.264570</td>\n",
       "    </tr>\n",
       "    <tr>\n",
       "      <th>4</th>\n",
       "      <td>8220DB000008</td>\n",
       "      <td>Parnell Square West</td>\n",
       "      <td>8.0</td>\n",
       "      <td>53.353272</td>\n",
       "      <td>-6.265184</td>\n",
       "    </tr>\n",
       "  </tbody>\n",
       "</table>\n",
       "</div>"
      ],
      "text/plain": [
       "   8220DB000002  Parnell Square West    2  53.35224436  -6.263723219\n",
       "0  8220DB000003  Parnell Square West  3.0    53.352309     -6.263811\n",
       "1  8220DB000004  Parnell Square West  4.0    53.352575     -6.264175\n",
       "2  8220DB000006  Parnell Square West  6.0    53.352749     -6.264454\n",
       "3  8220DB000007  Parnell Square West  7.0    53.352841     -6.264570\n",
       "4  8220DB000008  Parnell Square West  8.0    53.353272     -6.265184"
      ]
     },
     "execution_count": 10,
     "metadata": {},
     "output_type": "execute_result"
    }
   ],
   "source": [
    "df.head()"
   ]
  },
  {
   "cell_type": "code",
   "execution_count": 11,
   "metadata": {},
   "outputs": [],
   "source": [
    "df.columns = ['id', 'name', 'num', 'lat', 'long']"
   ]
  },
  {
   "cell_type": "code",
   "execution_count": 12,
   "metadata": {},
   "outputs": [
    {
     "data": {
      "text/html": [
       "<div>\n",
       "<style scoped>\n",
       "    .dataframe tbody tr th:only-of-type {\n",
       "        vertical-align: middle;\n",
       "    }\n",
       "\n",
       "    .dataframe tbody tr th {\n",
       "        vertical-align: top;\n",
       "    }\n",
       "\n",
       "    .dataframe thead th {\n",
       "        text-align: right;\n",
       "    }\n",
       "</style>\n",
       "<table border=\"1\" class=\"dataframe\">\n",
       "  <thead>\n",
       "    <tr style=\"text-align: right;\">\n",
       "      <th></th>\n",
       "      <th>id</th>\n",
       "      <th>name</th>\n",
       "      <th>num</th>\n",
       "      <th>lat</th>\n",
       "      <th>long</th>\n",
       "    </tr>\n",
       "  </thead>\n",
       "  <tbody>\n",
       "    <tr>\n",
       "      <th>0</th>\n",
       "      <td>8220DB000003</td>\n",
       "      <td>Parnell Square West</td>\n",
       "      <td>3.0</td>\n",
       "      <td>53.352309</td>\n",
       "      <td>-6.263811</td>\n",
       "    </tr>\n",
       "    <tr>\n",
       "      <th>1</th>\n",
       "      <td>8220DB000004</td>\n",
       "      <td>Parnell Square West</td>\n",
       "      <td>4.0</td>\n",
       "      <td>53.352575</td>\n",
       "      <td>-6.264175</td>\n",
       "    </tr>\n",
       "    <tr>\n",
       "      <th>2</th>\n",
       "      <td>8220DB000006</td>\n",
       "      <td>Parnell Square West</td>\n",
       "      <td>6.0</td>\n",
       "      <td>53.352749</td>\n",
       "      <td>-6.264454</td>\n",
       "    </tr>\n",
       "    <tr>\n",
       "      <th>3</th>\n",
       "      <td>8220DB000007</td>\n",
       "      <td>Parnell Square West</td>\n",
       "      <td>7.0</td>\n",
       "      <td>53.352841</td>\n",
       "      <td>-6.264570</td>\n",
       "    </tr>\n",
       "    <tr>\n",
       "      <th>4</th>\n",
       "      <td>8220DB000008</td>\n",
       "      <td>Parnell Square West</td>\n",
       "      <td>8.0</td>\n",
       "      <td>53.353272</td>\n",
       "      <td>-6.265184</td>\n",
       "    </tr>\n",
       "  </tbody>\n",
       "</table>\n",
       "</div>"
      ],
      "text/plain": [
       "             id                 name  num        lat      long\n",
       "0  8220DB000003  Parnell Square West  3.0  53.352309 -6.263811\n",
       "1  8220DB000004  Parnell Square West  4.0  53.352575 -6.264175\n",
       "2  8220DB000006  Parnell Square West  6.0  53.352749 -6.264454\n",
       "3  8220DB000007  Parnell Square West  7.0  53.352841 -6.264570\n",
       "4  8220DB000008  Parnell Square West  8.0  53.353272 -6.265184"
      ]
     },
     "execution_count": 12,
     "metadata": {},
     "output_type": "execute_result"
    }
   ],
   "source": [
    "df.head()"
   ]
  },
  {
   "cell_type": "code",
   "execution_count": 15,
   "metadata": {},
   "outputs": [
    {
     "data": {
      "text/plain": [
       "2"
      ]
     },
     "execution_count": 15,
     "metadata": {},
     "output_type": "execute_result"
    }
   ],
   "source": [
    "df['num'].isna().sum()"
   ]
  },
  {
   "cell_type": "code",
   "execution_count": 16,
   "metadata": {},
   "outputs": [
    {
     "data": {
      "text/html": [
       "<div>\n",
       "<style scoped>\n",
       "    .dataframe tbody tr th:only-of-type {\n",
       "        vertical-align: middle;\n",
       "    }\n",
       "\n",
       "    .dataframe tbody tr th {\n",
       "        vertical-align: top;\n",
       "    }\n",
       "\n",
       "    .dataframe thead th {\n",
       "        text-align: right;\n",
       "    }\n",
       "</style>\n",
       "<table border=\"1\" class=\"dataframe\">\n",
       "  <thead>\n",
       "    <tr style=\"text-align: right;\">\n",
       "      <th></th>\n",
       "      <th>id</th>\n",
       "      <th>name</th>\n",
       "      <th>num</th>\n",
       "      <th>lat</th>\n",
       "      <th>long</th>\n",
       "    </tr>\n",
       "  </thead>\n",
       "  <tbody>\n",
       "    <tr>\n",
       "      <th>1578</th>\n",
       "      <td>8220DB007336</td>\n",
       "      <td>Cumberland Road</td>\n",
       "      <td>NaN</td>\n",
       "      <td>53.333728</td>\n",
       "      <td>-6.251337</td>\n",
       "    </tr>\n",
       "    <tr>\n",
       "      <th>1657</th>\n",
       "      <td>8220VIR07491</td>\n",
       "      <td>Virtual Stop 1</td>\n",
       "      <td>NaN</td>\n",
       "      <td>53.348530</td>\n",
       "      <td>-6.259879</td>\n",
       "    </tr>\n",
       "  </tbody>\n",
       "</table>\n",
       "</div>"
      ],
      "text/plain": [
       "                id             name  num        lat      long\n",
       "1578  8220DB007336  Cumberland Road  NaN  53.333728 -6.251337\n",
       "1657  8220VIR07491   Virtual Stop 1  NaN  53.348530 -6.259879"
      ]
     },
     "execution_count": 16,
     "metadata": {},
     "output_type": "execute_result"
    }
   ],
   "source": [
    "df.loc[df['num'].isna()]"
   ]
  },
  {
   "cell_type": "code",
   "execution_count": null,
   "metadata": {},
   "outputs": [],
   "source": []
  }
 ],
 "metadata": {
  "kernelspec": {
   "display_name": "Python 3",
   "language": "python",
   "name": "python3"
  },
  "language_info": {
   "codemirror_mode": {
    "name": "ipython",
    "version": 3
   },
   "file_extension": ".py",
   "mimetype": "text/x-python",
   "name": "python",
   "nbconvert_exporter": "python",
   "pygments_lexer": "ipython3",
   "version": "3.8.5"
  }
 },
 "nbformat": 4,
 "nbformat_minor": 4
}
