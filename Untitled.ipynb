{
 "cells": [
  {
   "cell_type": "code",
   "execution_count": 1,
   "metadata": {},
   "outputs": [],
   "source": [
    "days = [{'dt': 1624910400, 'sunrise': 1624884511, 'sunset': 1624937606, 'temp': {'day': 28.21, 'min': 13.67, 'max': 29.14, 'night': 15.22, 'eve': 21.93, 'morn': 14.52}, 'feels_like': {'day': 27.41, 'night': 14.83, 'eve': 21.54, 'morn': 14.3}, 'pressure': 1009, 'humidity': 33, 'weather': [{'id': 800, 'main': 'Clear', 'description': 'sky is clear', 'icon': '01d'}], 'speed': 4.03, 'deg': 256, 'gust': 6.11, 'clouds': 0, 'pop': 0}, {'dt': 1624996800, 'sunrise': 1624970935, 'sunset': 1625024004, 'temp': {'day': 32.82, 'min': 14.04, 'max': 32.82, 'night': 16.17, 'eve': 21.16, 'morn': 16.25}, 'feels_like': {'day': 31.18, 'night': 15.96, 'eve': 20.85, 'morn': 15.89}, 'pressure': 1007, 'humidity': 25, 'weather': [{'id': 800, 'main': 'Clear', 'description': 'sky is clear', 'icon': '01d'}], 'speed': 4.24, 'deg': 251, 'gust': 5.94, 'clouds': 4, 'pop': 0}, {'dt': 1625083200, 'sunrise': 1625057361, 'sunset': 1625110401, 'temp': {'day': 28.19, 'min': 14.21, 'max': 28.19, 'night': 14.36, 'eve': 17.32, 'morn': 17.2}, 'feels_like': {'day': 27.63, 'night': 14.18, 'eve': 17.07, 'morn': 16.93}, 'pressure': 1008, 'humidity': 37, 'weather': [{'id': 800, 'main': 'Clear', 'description': 'sky is clear', 'icon': '01d'}], 'speed': 4.81, 'deg': 259, 'gust': 6.43, 'clouds': 0, 'pop': 0.03}, {'dt': 1625169600, 'sunrise': 1625143787, 'sunset': 1625196796, 'temp': {'day': 28.38, 'min': 13.53, 'max': 28.38, 'night': 14.51, 'eve': 19.38, 'morn': 16.75}, 'feels_like': {'day': 27.6, 'night': 14.26, 'eve': 19.02, 'morn': 16.39}, 'pressure': 1010, 'humidity': 34, 'weather': [{'id': 800, 'main': 'Clear', 'description': 'sky is clear', 'icon': '01d'}], 'speed': 4.04, 'deg': 265, 'gust': 4.26, 'clouds': 0, 'pop': 0}, {'dt': 1625256000, 'sunrise': 1625230216, 'sunset': 1625283189, 'temp': {'day': 29.93, 'min': 12.87, 'max': 29.93, 'night': 14.73, 'eve': 19.28, 'morn': 17.31}, 'feels_like': {'day': 28.69, 'night': 14.45, 'eve': 18.88, 'morn': 16.85}, 'pressure': 1011, 'humidity': 30, 'weather': [{'id': 800, 'main': 'Clear', 'description': 'sky is clear', 'icon': '01d'}], 'speed': 3.79, 'deg': 255, 'gust': 3.9, 'clouds': 0, 'pop': 0}, {'dt': 1625342400, 'sunrise': 1625316645, 'sunset': 1625369580, 'temp': {'day': 29.76, 'min': 12.86, 'max': 29.76, 'night': 14.4, 'eve': 19.54, 'morn': 17.25}, 'feels_like': {'day': 28.47, 'night': 14.12, 'eve': 19.06, 'morn': 16.81}, 'pressure': 1012, 'humidity': 29, 'weather': [{'id': 800, 'main': 'Clear', 'description': 'sky is clear', 'icon': '01d'}], 'speed': 4.07, 'deg': 256, 'gust': 4.94, 'clouds': 0, 'pop': 0}, {'dt': 1625428800, 'sunrise': 1625403076, 'sunset': 1625455970, 'temp': {'day': 29.72, 'min': 12.59, 'max': 29.72, 'night': 14.14, 'eve': 19.32, 'morn': 16.48}, 'feels_like': {'day': 28.26, 'night': 13.8, 'eve': 18.82, 'morn': 16.04}, 'pressure': 1012, 'humidity': 26, 'weather': [{'id': 800, 'main': 'Clear', 'description': 'sky is clear', 'icon': '01d'}], 'speed': 4.11, 'deg': 256, 'gust': 5.5, 'clouds': 0, 'pop': 0}, {'dt': 1625515200, 'sunrise': 1625489508, 'sunset': 1625542358, 'temp': {'day': 31.91, 'min': 12.13, 'max': 31.91, 'night': 13.9, 'eve': 19.51, 'morn': 16.8}, 'feels_like': {'day': 29.95, 'night': 13.57, 'eve': 19.06, 'morn': 16.29}, 'pressure': 1010, 'humidity': 21, 'weather': [{'id': 800, 'main': 'Clear', 'description': 'sky is clear', 'icon': '01d'}], 'speed': 4.09, 'deg': 256, 'gust': 5.15, 'clouds': 0, 'pop': 0}, {'dt': 1625601600, 'sunrise': 1625575941, 'sunset': 1625628744, 'temp': {'day': 32.39, 'min': 12.64, 'max': 32.39, 'night': 14.91, 'eve': 19.48, 'morn': 17.86}, 'feels_like': {'day': 30.41, 'night': 14.26, 'eve': 18.79, 'morn': 17.27}, 'pressure': 1008, 'humidity': 21, 'weather': [{'id': 800, 'main': 'Clear', 'description': 'sky is clear', 'icon': '01d'}], 'speed': 4.2, 'deg': 250, 'gust': 5.61, 'clouds': 0, 'pop': 0}, {'dt': 1625688000, 'sunrise': 1625662375, 'sunset': 1625715128, 'temp': {'day': 31.19, 'min': 12.61, 'max': 31.19, 'night': 13.34, 'eve': 18.09, 'morn': 17.69}, 'feels_like': {'day': 29.34, 'night': 12.98, 'eve': 17.55, 'morn': 17}, 'pressure': 1008, 'humidity': 22, 'weather': [{'id': 800, 'main': 'Clear', 'description': 'sky is clear', 'icon': '01d'}], 'speed': 4.09, 'deg': 250, 'gust': 5.14, 'clouds': 0, 'pop': 0}, {'dt': 1625774400, 'sunrise': 1625748811, 'sunset': 1625801510, 'temp': {'day': 30.01, 'min': 11.85, 'max': 30.01, 'night': 14.96, 'eve': 19.45, 'morn': 16.3}, 'feels_like': {'day': 28.45, 'night': 14.42, 'eve': 18.86, 'morn': 15.81}, 'pressure': 1011, 'humidity': 25, 'weather': [{'id': 800, 'main': 'Clear', 'description': 'sky is clear', 'icon': '01d'}], 'speed': 3.74, 'deg': 252, 'gust': 5.1, 'clouds': 0, 'pop': 0}, {'dt': 1625860800, 'sunrise': 1625835247, 'sunset': 1625887891, 'temp': {'day': 33.17, 'min': 13.49, 'max': 33.17, 'night': 14.53, 'eve': 19.94, 'morn': 18.83}, 'feels_like': {'day': 30.92, 'night': 14.1, 'eve': 19.4, 'morn': 18.23}, 'pressure': 1011, 'humidity': 17, 'weather': [{'id': 800, 'main': 'Clear', 'description': 'sky is clear', 'icon': '01d'}], 'speed': 4, 'deg': 254, 'gust': 5.62, 'clouds': 0, 'pop': 0}, {'dt': 1625947200, 'sunrise': 1625921685, 'sunset': 1625974270, 'temp': {'day': 32.31, 'min': 12.92, 'max': 32.31, 'night': 14.57, 'eve': 20.28, 'morn': 17.86}, 'feels_like': {'day': 30.33, 'night': 14.2, 'eve': 19.77, 'morn': 17.29}, 'pressure': 1010, 'humidity': 21, 'weather': [{'id': 800, 'main': 'Clear', 'description': 'sky is clear', 'icon': '01d'}], 'speed': 3.54, 'deg': 248, 'gust': 4.13, 'clouds': 0, 'pop': 0}, {'dt': 1626033600, 'sunrise': 1626008123, 'sunset': 1626060647, 'temp': {'day': 35.16, 'min': 12.81, 'max': 35.16, 'night': 16.23, 'eve': 22.53, 'morn': 18.32}, 'feels_like': {'day': 32.81, 'night': 15.87, 'eve': 22.14, 'morn': 17.72}, 'pressure': 1009, 'humidity': 16, 'weather': [{'id': 800, 'main': 'Clear', 'description': 'sky is clear', 'icon': '01d'}], 'speed': 3.8, 'deg': 257, 'gust': 4.25, 'clouds': 0, 'pop': 0}, {'dt': 1626120000, 'sunrise': 1626094563, 'sunset': 1626147022, 'temp': {'day': 32.39, 'min': 13.22, 'max': 32.39, 'night': 14.91, 'eve': 20.41, 'morn': 17.81}, 'feels_like': {'day': 30.41, 'night': 14.49, 'eve': 19.89, 'morn': 17.21}, 'pressure': 1008, 'humidity': 21, 'weather': [{'id': 800, 'main': 'Clear', 'description': 'sky is clear', 'icon': '01d'}], 'speed': 4.09, 'deg': 262, 'gust': 4.53, 'clouds': 0, 'pop': 0}, {'dt': 1626206400, 'sunrise': 1626181003, 'sunset': 1626233396, 'temp': {'day': 30.42, 'min': 12.71, 'max': 30.42, 'night': 27.98, 'eve': 27.98, 'morn': 17.38}, 'feels_like': {'day': 28.87, 'night': 27.04, 'eve': 27.04, 'morn': 16.79}, 'pressure': 1010, 'humidity': 26, 'weather': [{'id': 800, 'main': 'Clear', 'description': 'sky is clear', 'icon': '01d'}], 'speed': 4.39, 'deg': 259, 'gust': 5.26, 'clouds': 0, 'pop': 0}]"
   ]
  },
  {
   "cell_type": "code",
   "execution_count": 3,
   "metadata": {},
   "outputs": [
    {
     "name": "stdout",
     "output_type": "stream",
     "text": [
      "800\n",
      "800\n",
      "800\n",
      "800\n",
      "800\n",
      "800\n",
      "800\n",
      "800\n",
      "800\n",
      "800\n",
      "800\n",
      "800\n",
      "800\n",
      "800\n",
      "800\n",
      "800\n"
     ]
    }
   ],
   "source": [
    "for day in days:\n",
    "    print(day[\"weather\"][0][\"id\"])\n",
    "    "
   ]
  },
  {
   "cell_type": "code",
   "execution_count": 5,
   "metadata": {},
   "outputs": [
    {
     "ename": "NameError",
     "evalue": "name 'dt' is not defined",
     "output_type": "error",
     "traceback": [
      "\u001b[0;31m---------------------------------------------------------------------------\u001b[0m",
      "\u001b[0;31mNameError\u001b[0m                                 Traceback (most recent call last)",
      "\u001b[0;32m<ipython-input-5-ec756822af2c>\u001b[0m in \u001b[0;36m<module>\u001b[0;34m\u001b[0m\n\u001b[1;32m      1\u001b[0m \u001b[0;32mfrom\u001b[0m \u001b[0mdatetime\u001b[0m \u001b[0;32mimport\u001b[0m \u001b[0mdate\u001b[0m\u001b[0;34m\u001b[0m\u001b[0;34m\u001b[0m\u001b[0m\n\u001b[0;32m----> 2\u001b[0;31m \u001b[0mdt\u001b[0m\u001b[0;34m(\u001b[0m\u001b[0mdate\u001b[0m\u001b[0;34m.\u001b[0m\u001b[0mtoday\u001b[0m\u001b[0;34m(\u001b[0m\u001b[0;34m)\u001b[0m\u001b[0;34m)\u001b[0m\u001b[0;34m\u001b[0m\u001b[0;34m\u001b[0m\u001b[0m\n\u001b[0m",
      "\u001b[0;31mNameError\u001b[0m: name 'dt' is not defined"
     ]
    }
   ],
   "source": [
    "from datetime import date\n",
    "dt(date.today())"
   ]
  },
  {
   "cell_type": "code",
   "execution_count": null,
   "metadata": {},
   "outputs": [],
   "source": []
  }
 ],
 "metadata": {
  "kernelspec": {
   "display_name": "Python 3",
   "language": "python",
   "name": "python3"
  },
  "language_info": {
   "codemirror_mode": {
    "name": "ipython",
    "version": 3
   },
   "file_extension": ".py",
   "mimetype": "text/x-python",
   "name": "python",
   "nbconvert_exporter": "python",
   "pygments_lexer": "ipython3",
   "version": "3.8.5"
  }
 },
 "nbformat": 4,
 "nbformat_minor": 4
}
